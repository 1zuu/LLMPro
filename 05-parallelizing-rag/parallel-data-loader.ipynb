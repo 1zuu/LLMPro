{
 "cells": [
  {
   "cell_type": "code",
   "execution_count": 1,
   "metadata": {},
   "outputs": [],
   "source": [
    "from pstats import SortKey\n",
    "import cProfile, pstats, yaml, os\n",
    "from llama_index import SimpleDirectoryReader"
   ]
  },
  {
   "cell_type": "code",
   "execution_count": 2,
   "metadata": {},
   "outputs": [],
   "source": [
    "# !llamaindex-cli download-llamadataset PatronusAIFinanceBenchDataset --download-dir ./data"
   ]
  },
  {
   "cell_type": "code",
   "execution_count": 3,
   "metadata": {},
   "outputs": [],
   "source": [
    "reader = SimpleDirectoryReader(input_dir=\"./data\")"
   ]
  },
  {
   "cell_type": "markdown",
   "metadata": {},
   "source": [
    "## Sequential Load"
   ]
  },
  {
   "cell_type": "code",
   "execution_count": 4,
   "metadata": {},
   "outputs": [
    {
     "data": {
      "text/plain": [
       "4478"
      ]
     },
     "execution_count": 4,
     "metadata": {},
     "output_type": "execute_result"
    }
   ],
   "source": [
    "documents = reader.load_data()\n",
    "len(documents)"
   ]
  },
  {
   "cell_type": "code",
   "execution_count": 5,
   "metadata": {},
   "outputs": [
    {
     "name": "stdout",
     "output_type": "stream",
     "text": [
      "Mon Jan 15 14:34:15 2024    stats/oldstats\n",
      "\n",
      "         2071618291 function calls (2067598183 primitive calls) in 362.165 seconds\n",
      "\n",
      "   Ordered by: cumulative time\n",
      "   List reduced from 310 to 15 due to restriction <15>\n",
      "\n",
      "   ncalls  tottime  percall  cumtime  percall filename:lineno(function)\n",
      "        1    0.000    0.000  362.165  362.165 {built-in method builtins.exec}\n",
      "        1    0.002    0.002  362.165  362.165 <string>:1(<module>)\n",
      "        1    0.000    0.000  362.163  362.163 base.py:343(load_data)\n",
      "       33    0.000    0.000  362.161   10.975 base.py:255(load_file)\n",
      "       33    0.027    0.001  362.156   10.974 docs_reader.py:24(load_data)\n",
      "     4478    1.126    0.000  358.765    0.080 _page.py:2190(extract_text)\n",
      "4789/4478    5.701    0.001  357.639    0.080 _page.py:1856(_extract_text)\n",
      "     4789    0.006    0.000  268.299    0.056 _data_structures.py:1238(operations)\n",
      "     4618   53.654    0.012  268.292    0.058 _data_structures.py:1102(_parse_content_stream)\n",
      "42389034/39086149   30.553    0.000  155.090    0.000 _data_structures.py:1266(read_object)\n",
      " 26518104   14.316    0.000   75.189    0.000 _page.py:1939(process_operation)\n",
      " 30916652   10.584    0.000   62.784    0.000 _base.py:481(read_from_stream)\n",
      " 56973214   34.971    0.000   56.627    0.000 _utils.py:201(read_until_regex)\n",
      "  8643824   17.245    0.000   39.299    0.000 _utils.py:14(read_hex_string_from_stream)\n",
      "122832210   30.805    0.000   35.841    0.000 _utils.py:158(read_non_whitespace)\n",
      "\n",
      "\n"
     ]
    },
    {
     "data": {
      "text/plain": [
       "<pstats.Stats at 0x2a6056cd0>"
      ]
     },
     "execution_count": 5,
     "metadata": {},
     "output_type": "execute_result"
    }
   ],
   "source": [
    "cProfile.run(\"reader.load_data()\", \"stats/oldstats\")\n",
    "p = pstats.Stats(\"stats/oldstats\")\n",
    "p.strip_dirs().sort_stats(SortKey.CUMULATIVE).print_stats(15)"
   ]
  },
  {
   "cell_type": "markdown",
   "metadata": {},
   "source": [
    "# Parallel Load"
   ]
  },
  {
   "cell_type": "code",
   "execution_count": 6,
   "metadata": {},
   "outputs": [
    {
     "data": {
      "text/plain": [
       "4478"
      ]
     },
     "execution_count": 6,
     "metadata": {},
     "output_type": "execute_result"
    }
   ],
   "source": [
    "documents = reader.load_data(num_workers=10)\n",
    "len(documents)"
   ]
  },
  {
   "cell_type": "code",
   "execution_count": 7,
   "metadata": {},
   "outputs": [
    {
     "name": "stdout",
     "output_type": "stream",
     "text": [
      "Mon Jan 15 14:35:33 2024    stats/newstats\n",
      "\n",
      "         13085 function calls in 38.536 seconds\n",
      "\n",
      "   Ordered by: cumulative time\n",
      "   List reduced from 213 to 15 due to restriction <15>\n",
      "\n",
      "   ncalls  tottime  percall  cumtime  percall filename:lineno(function)\n",
      "        1    0.000    0.000   38.536   38.536 {built-in method builtins.exec}\n",
      "        1    0.004    0.004   38.536   38.536 <string>:1(<module>)\n",
      "        1    0.000    0.000   38.532   38.532 base.py:343(load_data)\n",
      "       24    0.000    0.000   38.447    1.602 threading.py:563(wait)\n",
      "       24    0.000    0.000   38.447    1.602 threading.py:280(wait)\n",
      "      159   38.447    0.242   38.447    0.242 {method 'acquire' of '_thread.lock' objects}\n",
      "        1    0.000    0.000   38.438   38.438 pool.py:366(starmap)\n",
      "        1    0.000    0.000   38.438   38.438 pool.py:764(get)\n",
      "        1    0.000    0.000   38.438   38.438 pool.py:761(wait)\n",
      "        1    0.000    0.000    0.070    0.070 context.py:115(Pool)\n",
      "        1    0.000    0.000    0.069    0.069 pool.py:183(__init__)\n",
      "        1    0.000    0.000    0.067    0.067 pool.py:302(_repopulate_pool)\n",
      "        1    0.000    0.000    0.067    0.067 pool.py:311(_repopulate_pool_static)\n",
      "       10    0.001    0.000    0.066    0.007 process.py:110(start)\n",
      "       10    0.000    0.000    0.065    0.006 context.py:281(_Popen)\n",
      "\n",
      "\n"
     ]
    },
    {
     "data": {
      "text/plain": [
       "<pstats.Stats at 0x2a6e88520>"
      ]
     },
     "execution_count": 7,
     "metadata": {},
     "output_type": "execute_result"
    }
   ],
   "source": [
    "cProfile.run(\"reader.load_data(num_workers=10)\", \"stats/newstats\")\n",
    "p = pstats.Stats(\"stats/newstats\")\n",
    "p.strip_dirs().sort_stats(SortKey.CUMULATIVE).print_stats(15)"
   ]
  },
  {
   "cell_type": "markdown",
   "metadata": {},
   "source": [
    "## Conclusion"
   ]
  },
  {
   "cell_type": "code",
   "execution_count": 8,
   "metadata": {},
   "outputs": [
    {
     "name": "stdout",
     "output_type": "stream",
     "text": [
      "SpeedUp: 939.01%\n"
     ]
    }
   ],
   "source": [
    "SeqentialProcessingTime = 360.101\n",
    "ParallelProcessingTime = 38.349\n",
    "\n",
    "SpeedUp = SeqentialProcessingTime / ParallelProcessingTime\n",
    "SpeedUp = round(SpeedUp * 100, 2)\n",
    "print(f\"SpeedUp: {SpeedUp}%\")"
   ]
  }
 ],
 "metadata": {
  "kernelspec": {
   "display_name": "base",
   "language": "python",
   "name": "python3"
  },
  "language_info": {
   "codemirror_mode": {
    "name": "ipython",
    "version": 3
   },
   "file_extension": ".py",
   "mimetype": "text/x-python",
   "name": "python",
   "nbconvert_exporter": "python",
   "pygments_lexer": "ipython3",
   "version": "3.9.18"
  }
 },
 "nbformat": 4,
 "nbformat_minor": 2
}
