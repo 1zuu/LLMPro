{
 "cells": [
  {
   "cell_type": "code",
   "execution_count": 1,
   "metadata": {},
   "outputs": [
    {
     "name": "stderr",
     "output_type": "stream",
     "text": [
      "/Users/1zuu/miniforge3/envs/llamaindex/lib/python3.9/site-packages/tqdm/auto.py:21: TqdmWarning: IProgress not found. Please update jupyter and ipywidgets. See https://ipywidgets.readthedocs.io/en/stable/user_install.html\n",
      "  from .autonotebook import tqdm as notebook_tqdm\n"
     ]
    }
   ],
   "source": [
    "import yaml, os, camelot\n",
    "from typing import List, Dict\n",
    "from llama_index.schema import IndexNode\n",
    "from llama_index.llms import AzureOpenAI\n",
    "from llama_index.llm_predictor import LLMPredictor\n",
    "from llama_index import set_global_service_context\n",
    "from llama_index.node_parser import SimpleNodeParser\n",
    "from llama_index.retrievers import RecursiveRetriever\n",
    "from llama_hub.file.pymu_pdf.base import PyMuPDFReader\n",
    "from llama_index.embeddings import HuggingFaceEmbedding\n",
    "from llama_index.query_engine import RetrieverQueryEngine\n",
    "from llama_index.response_synthesizers import get_response_synthesizer\n",
    "from llama_index.query_engine import PandasQueryEngine, RetrieverQueryEngine\n",
    "from llama_index import StorageContext, ServiceContext, load_index_from_storage\n",
    "from vectorstore import *"
   ]
  },
  {
   "cell_type": "code",
   "execution_count": 2,
   "metadata": {},
   "outputs": [],
   "source": [
    "with open('/Users/1zuu/Desktop/LLM RESEARCH/LLMPro/cadentials.yaml') as f:\n",
    "    credentials = yaml.load(f, Loader=yaml.FullLoader)\n",
    "\n",
    "os.environ['AD_OPENAI_API_KEY'] = credentials['AD_OPENAI_API_KEY']"
   ]
  },
  {
   "cell_type": "code",
   "execution_count": 3,
   "metadata": {},
   "outputs": [],
   "source": [
    "embedding_llm = HuggingFaceEmbedding(model_name=\"BAAI/bge-small-en-v1.5\")\n",
    "llm=AzureOpenAI(\n",
    "                deployment_name=credentials['AD_DEPLOYMENT_ID'],\n",
    "                model=credentials['AD_ENGINE'],\n",
    "                api_key=credentials['AD_OPENAI_API_KEY'],\n",
    "                api_version=credentials['AD_OPENAI_API_VERSION'],\n",
    "                azure_endpoint=credentials['AD_OPENAI_API_BASE']\n",
    "                )\n",
    "chat_llm = LLMPredictor(llm)\n",
    "\n",
    "service_context = ServiceContext.from_defaults(\n",
    "                                                embed_model=embedding_llm,\n",
    "                                                llm_predictor=chat_llm\n",
    "                                                )\n",
    "set_global_service_context(service_context)"
   ]
  },
  {
   "cell_type": "code",
   "execution_count": 4,
   "metadata": {},
   "outputs": [],
   "source": [
    "vector_index_text = load_index_from_storage(StorageContext.from_defaults(persist_dir=\"./db/text_index\"))\n",
    "vector_index = load_index_from_storage(StorageContext.from_defaults(persist_dir=\"./db/recursive_index\"))"
   ]
  },
  {
   "cell_type": "code",
   "execution_count": 5,
   "metadata": {},
   "outputs": [],
   "source": [
    "vector_query_engine_text = vector_index_text.as_query_engine()\n",
    "vector_retriever = vector_index.as_retriever(similarity_top_k=1)"
   ]
  },
  {
   "cell_type": "code",
   "execution_count": 7,
   "metadata": {},
   "outputs": [],
   "source": [
    "## Recursive Retriever (Recursively Query on each table to find relevant table )\n",
    "recursive_retriever = RecursiveRetriever(\n",
    "                                        \"vector\",\n",
    "                                        retriever_dict={\n",
    "                                                        \"vector\": vector_retriever\n",
    "                                                        },\n",
    "                                        query_engine_dict=df_id_query_engine_mapping,\n",
    "                                        verbose=True\n",
    "                                        )\n",
    "\n",
    "response_synthesizer = get_response_synthesizer(response_mode=\"compact\")\n",
    "\n",
    "query_engine = RetrieverQueryEngine(\n",
    "                                    retriever=recursive_retriever, \n",
    "                                    response_synthesizer=response_synthesizer\n",
    "                                    )"
   ]
  },
  {
   "cell_type": "code",
   "execution_count": 8,
   "metadata": {},
   "outputs": [
    {
     "name": "stdout",
     "output_type": "stream",
     "text": [
      "\u001b[1;3;34mRetrieving with query id None: What's the net worth of the second richest billionaire in 2023?\n",
      "\u001b[0m\u001b[1;3;38;5;200mRetrieved node with id, entering: pandas0\n",
      "\u001b[0m\u001b[1;3;34mRetrieving with query id pandas0: What's the net worth of the second richest billionaire in 2023?\n",
      "\u001b[0m\u001b[1;3;32mGot response: $180 billion\n",
      "\u001b[0m"
     ]
    },
    {
     "data": {
      "text/plain": [
       "'The net worth of the second richest billionaire in 2023 is $180 billion.'"
      ]
     },
     "execution_count": 8,
     "metadata": {},
     "output_type": "execute_result"
    }
   ],
   "source": [
    "response = query_engine.query(\n",
    "                            \"What's the net worth of the second richest billionaire in 2023?\"\n",
    "                            )\n",
    "str(response)"
   ]
  },
  {
   "cell_type": "markdown",
   "metadata": {},
   "source": [
    "### Ask a question related to text content on both `text query engine` and `recursive query engine`"
   ]
  },
  {
   "cell_type": "code",
   "execution_count": 8,
   "metadata": {},
   "outputs": [
    {
     "name": "stderr",
     "output_type": "stream",
     "text": [
      "huggingface/tokenizers: The current process just got forked, after parallelism has already been used. Disabling parallelism to avoid deadlocks...\n",
      "To disable this warning, you can either:\n",
      "\t- Avoid using `tokenizers` before the fork if possible\n",
      "\t- Explicitly set the environment variable TOKENIZERS_PARALLELISM=(true | false)\n"
     ]
    },
    {
     "name": "stdout",
     "output_type": "stream",
     "text": [
      "Sorry, I cannot answer the query as there is no information provided in the given context about the number of billionaires in 2009.\n"
     ]
    }
   ],
   "source": [
    "response = vector_query_engine_text.query(\"How many billionaires were there in 2009?\")\n",
    "print(str(response))"
   ]
  },
  {
   "cell_type": "code",
   "execution_count": 9,
   "metadata": {},
   "outputs": [
    {
     "name": "stdout",
     "output_type": "stream",
     "text": [
      "\u001b[1;3;34mRetrieving with query id None: How many billionaires were there in 2009?\n",
      "\u001b[0m\u001b[1;3;38;5;200mRetrieving text node: 7/1/23, 11:31 PM\n",
      "The World's Billionaires - Wikipedia\n",
      "https://en.wikipedia.org/wiki/The_World%27s_Billionaires\n",
      "5/33\n",
      "In the 34th annual Forbes list of the world's billionaires, the list included 2,095 billionaires with a\n",
      "total net wealth of $8 trillion, down 58 members and $700 billion from 2019; 51% of these billionaires\n",
      "had less wealth than they possessed last year.[13] The list was finalized as of 18 March, thus was\n",
      "already partially influenced by the COVID-19 pandemic.[13]\n",
      "No.\n",
      "Name\n",
      "Net worth (USD)\n",
      "Age\n",
      "Nationality\n",
      "Source(s) of wealth\n",
      "1 \n",
      "Jeff Bezos\n",
      "$113 billion \n",
      "56\n",
      " United States\n",
      "Amazon\n",
      "2 \n",
      "Bill Gates\n",
      "$98 billion \n",
      "64\n",
      " United States\n",
      "Microsoft\n",
      "3 \n",
      "Bernard Arnault & family\n",
      "$76 billion \n",
      "71\n",
      " France\n",
      "LVMH\n",
      "4 \n",
      "Warren Buffett\n",
      "$67.5 billion \n",
      "89\n",
      " United States\n",
      "Berkshire Hathaway\n",
      "5 \n",
      "Larry Ellison\n",
      "$59 billion \n",
      "75\n",
      " United States\n",
      "Oracle Corporation\n",
      "6 \n",
      "Amancio Ortega\n",
      "$55.1 billion \n",
      "84\n",
      " Spain\n",
      "Inditex, Zara\n",
      "7 \n",
      "Mark Zuckerberg\n",
      "$54.7 billion \n",
      "35\n",
      " United States\n",
      "Facebook, Inc.\n",
      "8 \n",
      "Jim Walton\n",
      "$54.6 billion \n",
      "71\n",
      " United States\n",
      "Walmart\n",
      "9 \n",
      "Alice Walton\n",
      "$54.4 billion \n",
      "70\n",
      " United States\n",
      "Walmart\n",
      "10 \n",
      "S. Robson Walton\n",
      "$54.1 billion \n",
      "77\n",
      " United States\n",
      "Walmart\n",
      "In the 33rd annual Forbes list of the world's billionaires, the list included 2,153 billionaires with a\n",
      "total net wealth of $8.7 trillion, down 55 members and $400 billion from 2018.[14] The U.S. continued\n",
      "to have the most billionaires in the world, with a record of 609, while China dropped to 324 (when not\n",
      "including Hong Kong, Macau and Taiwan).[14]\n",
      "No.\n",
      "Name\n",
      "Net worth (USD)\n",
      "Age\n",
      "Nationality\n",
      "Source(s) of wealth\n",
      "1 \n",
      "Jeff Bezos\n",
      "$131 billion \n",
      "55\n",
      " United States\n",
      "Amazon\n",
      "2 \n",
      "Bill Gates\n",
      "$96.5 billion \n",
      "63\n",
      " United States\n",
      "Microsoft\n",
      "3 \n",
      "Warren Buffett\n",
      "$82.5 billion \n",
      "88\n",
      " United States\n",
      "Berkshire Hathaway\n",
      "4 \n",
      "Bernard Arnault\n",
      "$76 billion \n",
      "70\n",
      " France\n",
      "LVMH\n",
      "5 \n",
      "Carlos Slim\n",
      "$64 billion \n",
      "79\n",
      " Mexico\n",
      "América Móvil, Grupo Carso\n",
      "6 \n",
      "Amancio Ortega\n",
      "$62.7 billion \n",
      "82\n",
      " Spain\n",
      "Inditex, Zara\n",
      "7 \n",
      "Larry Ellison\n",
      "$62.5 billion \n",
      "74\n",
      " United States\n",
      "Oracle Corporation\n",
      "8 \n",
      "Mark Zuckerberg\n",
      "$62.3 billion \n",
      "34\n",
      " United States\n",
      "Facebook, Inc.\n",
      "9 \n",
      "Michael Bloomberg\n",
      "$55.5 billion \n",
      "77\n",
      " United States\n",
      "Bloomberg L.P.\n",
      "10 \n",
      "Larry Page\n",
      "$50.8 billion \n",
      "45\n",
      " United States\n",
      "Alphabet Inc.\n",
      "2019\n",
      "2018\n",
      "\u001b[0mI'm sorry, but the given context information does not provide any data on the number of billionaires in 2009.\n"
     ]
    }
   ],
   "source": [
    "response = query_engine.query(\"How many billionaires were there in 2009?\")\n",
    "print(str(response))"
   ]
  },
  {
   "cell_type": "code",
   "execution_count": null,
   "metadata": {},
   "outputs": [],
   "source": []
  }
 ],
 "metadata": {
  "kernelspec": {
   "display_name": "llamaindex",
   "language": "python",
   "name": "python3"
  },
  "language_info": {
   "codemirror_mode": {
    "name": "ipython",
    "version": 3
   },
   "file_extension": ".py",
   "mimetype": "text/x-python",
   "name": "python",
   "nbconvert_exporter": "python",
   "pygments_lexer": "ipython3",
   "version": "3.9.18"
  }
 },
 "nbformat": 4,
 "nbformat_minor": 2
}
