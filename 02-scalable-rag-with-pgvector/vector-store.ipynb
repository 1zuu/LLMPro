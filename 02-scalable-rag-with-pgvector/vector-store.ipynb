{
 "cells": [
  {
   "cell_type": "code",
   "execution_count": null,
   "metadata": {},
   "outputs": [],
   "source": [
    "import yaml, os\n",
    "import psycopg2\n",
    "from sqlalchemy import make_url\n",
    "from llama_index.llms import AzureOpenAI\n",
    "from llama_index.llm_predictor import LLMPredictor\n",
    "from llama_index import set_global_service_context\n",
    "from llama_index.vector_stores import PGVectorStore\n",
    "from llama_index.node_parser import SimpleNodeParser\n",
    "from llama_index.embeddings import HuggingFaceEmbedding\n",
    "from llama_index import SimpleDirectoryReader, ServiceContext, StorageContext, VectorStoreIndex"
   ]
  },
  {
   "cell_type": "code",
   "execution_count": null,
   "metadata": {},
   "outputs": [],
   "source": [
    "# !mkdir -p 'data/'\n",
    "# !wget 'https://raw.githubusercontent.com/run-llama/llama_index/main/docs/examples/data/paul_graham/paul_graham_essay.txt' -O 'data/paul_graham_essay.txt'"
   ]
  },
  {
   "cell_type": "code",
   "execution_count": null,
   "metadata": {},
   "outputs": [],
   "source": [
    "with open('/Users/1zuu/Desktop/LLM RESEARCH/LLMPro/cadentials.yaml') as f:\n",
    "    credentials = yaml.load(f, Loader=yaml.FullLoader)\n",
    "\n",
    "os.environ['AD_OPENAI_API_KEY'] = credentials['AD_OPENAI_API_KEY']\n",
    "os.environ['HUGGINGFACEHUB_API_TOKEN'] = credentials['HUGGINGFACEHUB_API_TOKEN']"
   ]
  },
  {
   "cell_type": "markdown",
   "metadata": {},
   "source": [
    "## Configure LLMs"
   ]
  },
  {
   "cell_type": "code",
   "execution_count": null,
   "metadata": {},
   "outputs": [],
   "source": [
    "embedding_llm = HuggingFaceEmbedding(model_name=\"BAAI/bge-small-en-v1.5\")\n",
    "llm=AzureOpenAI(\n",
    "                deployment_name=credentials['AD_DEPLOYMENT_ID'],\n",
    "                model=credentials['AD_ENGINE'],\n",
    "                api_key=credentials['AD_OPENAI_API_KEY'],\n",
    "                api_version=credentials['AD_OPENAI_API_VERSION'],\n",
    "                azure_endpoint=credentials['AD_OPENAI_API_BASE']\n",
    "                )\n",
    "chat_llm = LLMPredictor(llm)\n",
    "\n",
    "service_context = ServiceContext.from_defaults(\n",
    "                                                embed_model=embedding_llm,\n",
    "                                                llm_predictor=chat_llm\n",
    "                                                )\n",
    "set_global_service_context(service_context)"
   ]
  },
  {
   "cell_type": "code",
   "execution_count": null,
   "metadata": {},
   "outputs": [],
   "source": [
    "documents = SimpleDirectoryReader(\n",
    "                                './data',\n",
    "                                encoding='utf-8',\n",
    "                                ).load_data()\n",
    "documents"
   ]
  },
  {
   "cell_type": "code",
   "execution_count": null,
   "metadata": {},
   "outputs": [],
   "source": [
    "simple_node_parser = SimpleNodeParser.from_defaults() \n",
    "nodes = simple_node_parser.get_nodes_from_documents(documents)\n",
    "nodes"
   ]
  },
  {
   "cell_type": "markdown",
   "metadata": {},
   "source": [
    "## pgvector for Storing Embeddings\n",
    "1. pull the image using `docker pull ankane/pgvector`\n",
    "2. run the image using `docker run --name pgvector-demo -e POSTGRES_PASSWORD=mysecretpassword -p 5432:5432 -d ankane/pgvector`"
   ]
  },
  {
   "cell_type": "code",
   "execution_count": null,
   "metadata": {},
   "outputs": [],
   "source": [
    "\n",
    "# CONNECTION_STRING = \"postgresql+psycopg2://postgres:{}@localhost:5432/pgvector_rag\".format(credentials['POSTGRES_PASSWORD'])\n",
    "# COLLECTION_NAME = 'state_of_union_vectors'\n",
    "\n",
    "# db = PGVector.from_documents(\n",
    "#                         embedding=embeddings,\n",
    "#                         documents=texts,\n",
    "#                         collection_name=COLLECTION_NAME,\n",
    "#                         connection_string=CONNECTION_STRING,\n",
    "#                     )"
   ]
  },
  {
   "cell_type": "markdown",
   "metadata": {},
   "source": [
    "### create the db"
   ]
  },
  {
   "cell_type": "code",
   "execution_count": null,
   "metadata": {},
   "outputs": [],
   "source": [
    "connection_string = \"postgresql://postgres:{}@localhost:5432\".format(credentials['POSTGRES_PASSWORD'])\n",
    "db_name = \"pgvector_rag\"\n",
    "conn = psycopg2.connect(connection_string)\n",
    "conn.autocommit = True\n",
    "\n",
    "with conn.cursor() as c:\n",
    "    c.execute(f\"DROP DATABASE IF EXISTS {db_name}\")\n",
    "    c.execute(f\"CREATE DATABASE {db_name}\")"
   ]
  },
  {
   "cell_type": "code",
   "execution_count": null,
   "metadata": {},
   "outputs": [],
   "source": [
    "url = make_url(connection_string)\n",
    "vector_store = PGVectorStore.from_params(\n",
    "                                        database=db_name,\n",
    "                                        host=url.host,\n",
    "                                        password=url.password,\n",
    "                                        port=url.port,\n",
    "                                        user=url.username,\n",
    "                                        table_name=\"vectors\",\n",
    "                                        embed_dim=384,\n",
    "                                        )"
   ]
  },
  {
   "cell_type": "code",
   "execution_count": null,
   "metadata": {},
   "outputs": [],
   "source": [
    "storage_context = StorageContext.from_defaults(vector_store=vector_store)\n",
    "index = VectorStoreIndex.from_documents(\n",
    "                                    documents, \n",
    "                                    storage_context=storage_context, \n",
    "                                    show_progress=True\n",
    "                                    )"
   ]
  },
  {
   "cell_type": "code",
   "execution_count": null,
   "metadata": {},
   "outputs": [],
   "source": [
    "query_engine = index.as_query_engine()"
   ]
  }
 ],
 "metadata": {
  "kernelspec": {
   "display_name": "llamaindex",
   "language": "python",
   "name": "python3"
  },
  "language_info": {
   "codemirror_mode": {
    "name": "ipython",
    "version": 3
   },
   "file_extension": ".py",
   "mimetype": "text/x-python",
   "name": "python",
   "nbconvert_exporter": "python",
   "pygments_lexer": "ipython3",
   "version": "3.9.18"
  }
 },
 "nbformat": 4,
 "nbformat_minor": 2
}
